{
 "cells": [
  {
   "cell_type": "code",
   "execution_count": 11,
   "metadata": {},
   "outputs": [],
   "source": [
    "from PIL import Image\n",
    "import numpy as np\n",
    "from matplotlib import pyplot as plt\n",
    "import skimage    \n"
   ]
  },
  {
   "cell_type": "code",
   "execution_count": 14,
   "metadata": {},
   "outputs": [
    {
     "name": "stdout",
     "output_type": "stream",
     "text": [
      "7,3264793488389985\n",
      "6,801823620357193\n",
      "7,454962011392735\n",
      "7,4923717144792\n",
      "7,464190900258437\n",
      "7,520452955575523\n",
      "7,309858467281352\n",
      "7,673795502555004\n",
      "7,176342243807122\n",
      "7,1977301641583775\n",
      "7,162766104928445\n",
      "7,316975374647739\n",
      "7,5606962681512035\n",
      "7,575706476696687\n",
      "7,5182499093810184\n",
      "7,320744931183217\n",
      "7,376601280187636\n",
      "7,11052014426189\n",
      "7,5347356149705105\n",
      "6,022864835748377\n",
      "7,259478435245279\n",
      "7,385258724553426\n",
      "7,601941331936698\n",
      "7,1366535650612635\n"
     ]
    }
   ],
   "source": [
    "original='/home/marcelo/Documentos/rnn-conv-autoencoder/imagens_teste/kodim'\n",
    "for j in range (1,25):\n",
    "    if j<10:  \n",
    "        original_img= original+'0'+str(j)+'.bmp'\n",
    "    else:\n",
    "        original_img= original+str(j)+'.bmp'\n",
    "\n",
    "    colorIm=Image.open(original_img)\n",
    "    print(str(skimage.measure.shannon_entropy(colorIm)).replace('.',',') )"
   ]
  },
  {
   "cell_type": "code",
   "execution_count": null,
   "metadata": {},
   "outputs": [],
   "source": []
  }
 ],
 "metadata": {
  "kernelspec": {
   "display_name": "Python 3",
   "language": "python",
   "name": "python3"
  },
  "language_info": {
   "codemirror_mode": {
    "name": "ipython",
    "version": 3
   },
   "file_extension": ".py",
   "mimetype": "text/x-python",
   "name": "python",
   "nbconvert_exporter": "python",
   "pygments_lexer": "ipython3",
   "version": "3.5.2"
  }
 },
 "nbformat": 4,
 "nbformat_minor": 1
}
