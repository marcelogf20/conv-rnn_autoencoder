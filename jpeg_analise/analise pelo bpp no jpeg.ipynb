{
 "cells": [
  {
   "cell_type": "code",
   "execution_count": 15,
   "metadata": {},
   "outputs": [],
   "source": [
    "import pandas as pd\n",
    "import numpy as np\n"
   ]
  },
  {
   "cell_type": "code",
   "execution_count": 16,
   "metadata": {},
   "outputs": [
    {
     "name": "stdout",
     "output_type": "stream",
     "text": [
      "   quality       psnr      ssim    msssim       bpp\n",
      "0      1.0  19.895743  0.420755  0.695867  0.190918\n",
      "1      2.0  19.898675  0.421259  0.696106  0.191203\n",
      "2      3.0  20.168041  0.457434  0.725162  0.206746\n",
      "3      4.0  20.947188  0.517097  0.769275  0.238851\n",
      "4      5.0  22.002037  0.568540  0.818280  0.271606\n"
     ]
    }
   ],
   "source": [
    "print(df.head())"
   ]
  },
  {
   "cell_type": "code",
   "execution_count": 63,
   "metadata": {},
   "outputs": [
    {
     "name": "stdout",
     "output_type": "stream",
     "text": [
      "[0.5170967]\n"
     ]
    }
   ],
   "source": [
    "\n",
    "df = pd.read_csv('analise'+str(1)+'.csv')\n",
    "df2=df.loc[(df['bpp']-0.25).abs().argsort()[:1]]\n",
    "psnr = np.array(df2['psnr'])\n",
    "print((psnr))"
   ]
  },
  {
   "cell_type": "code",
   "execution_count": 87,
   "metadata": {},
   "outputs": [],
   "source": [
    "interacoes=15\n",
    "psnr=np.zeros((24,interacoes))\n",
    "bpp_array=np.zeros((24,interacoes))\n",
    "quality=np.zeros((24,interacoes))\n",
    "\n",
    "ssim=np.zeros((24,interacoes))\n",
    "ms_ssim=np.zeros((24,interacoes))\n",
    "entrada=  np.arange(0.25,2.1,0.125)\n",
    "for i in range(1,25):\n",
    "    df = pd.read_csv('analise'+str(i)+'.csv')\n",
    "    j=0\n",
    "    for bpp in entrada:\n",
    "        df2=df.loc[(df['bpp']-bpp).abs().argsort()[:1]]\n",
    "        bpp_array[i-1][j] = float(df2['bpp'])\n",
    "        ssim[i-1][j] =  np.array(df2['ssim'])\n",
    "        quality[i-1][j] =  np.array(df2['quality'])\n",
    "        ms_ssim[i-1][j]= np.array(df2['msssim'])\n",
    "        psnr[i-1][j]= np.array(df2['psnr'])\n",
    "        j+=1\n",
    "        del df2"
   ]
  },
  {
   "cell_type": "code",
   "execution_count": 88,
   "metadata": {},
   "outputs": [
    {
     "name": "stdout",
     "output_type": "stream",
     "text": [
      "quality:\n",
      "7,375\n",
      "14,666666666666666\n",
      "23,0\n",
      "32,708333333333336\n",
      "42,333333333333336\n",
      "51,041666666666664\n",
      "58,125\n",
      "64,29166666666667\n",
      "69,29166666666667\n",
      "73,5\n",
      "76,875\n",
      "79,83333333333333\n",
      "82,33333333333333\n",
      "84,41666666666667\n",
      "85,83333333333333\n",
      "bpp:\n",
      "0,25046200222439235\n",
      "0,37717268202039933\n",
      "0,5004408094618056\n",
      "0,626129150390625\n",
      "0,7502068413628473\n",
      "0,8746142917209201\n",
      "0,9976103040907119\n",
      "1,1253975762261286\n",
      "1,2523150973849828\n",
      "1,377770317925347\n",
      "1,4951468573676217\n",
      "1,6222771538628473\n",
      "1,7541215684678821\n",
      "1,8926298353407118\n",
      "1,9896121554904511\n",
      "PSNR:\n",
      "25,27558556230927\n",
      "27,770853124808024\n",
      "29,265236945870072\n",
      "30,388838407347787\n",
      "31,277887909949538\n",
      "32,06263187597346\n",
      "32,74596235180776\n",
      "33,385252011770014\n",
      "33,96665899908545\n",
      "34,505097479074614\n",
      "34,98459609686865\n",
      "35,46861290475281\n",
      "35,96532839023454\n",
      "36,434112019352334\n",
      "36,77135868044409\n",
      "SSIM:\n",
      "0,6799527406996325\n",
      "0,7721339417355507\n",
      "0,8213666818408335\n",
      "0,8526554585356322\n",
      "0,8740825135390399\n",
      "0,8901798608077348\n",
      "0,9026058847827642\n",
      "0,9129030942088824\n",
      "0,9212115969202482\n",
      "0,9282412333895378\n",
      "0,9340318319547393\n",
      "0,9394405314864844\n",
      "0,9442260122221194\n",
      "0,9485764322693049\n",
      "0,9516639025651793\n",
      "MSSSIM:\n",
      "0,8462949373175772\n",
      "0,9138370693431872\n",
      "0,9429083875996995\n",
      "0,9586040489380355\n",
      "0,9675783142193758\n",
      "0,973808115738454\n",
      "0,9780839860697973\n",
      "0,9813063666969996\n",
      "0,9837386015728186\n",
      "0,985621008671348\n",
      "0,9870958602454918\n",
      "0,9884048231982366\n",
      "0,9894968297761796\n",
      "0,9904676656938981\n",
      "0,9911456467538748\n"
     ]
    }
   ],
   "source": [
    "print('quality:')\n",
    "for y in range(interacoes):\n",
    "    ls=[]\n",
    "    for x in range(0,24):\n",
    "        ls.append(quality[x][y])\n",
    "    print(str(np.mean(ls)).replace('.',','))\n",
    "    \n",
    "    \n",
    "print('bpp:')\n",
    "for y in range(interacoes):\n",
    "    ls=[]\n",
    "    for x in range(0,24):\n",
    "        ls.append(bpp_array[x][y])\n",
    "    print(str(np.mean(ls)).replace('.',','))\n",
    "    \n",
    "    \n",
    "print('PSNR:')\n",
    "for y in range(0,interacoes):\n",
    "    ls=[]\n",
    "    for x in range(0,24):\n",
    "        ls.append(psnr[x][y])\n",
    "    print(str(np.mean(ls)).replace('.',','))\n",
    "\n",
    "        \n",
    "print('SSIM:')\n",
    "for y in range(interacoes):\n",
    "    ls=[]\n",
    "    for x in range(0,24):\n",
    "        ls.append(ssim[x][y])\n",
    "    print(str(np.mean(ls)).replace('.',','))\n",
    "    \n",
    "print('MSSSIM:')\n",
    "for y in range(interacoes):\n",
    "    ls=[]\n",
    "    for x in range(0,24):\n",
    "        ls.append(ms_ssim[x][y])\n",
    "    print(str(np.mean(ls)).replace('.',','))"
   ]
  },
  {
   "cell_type": "code",
   "execution_count": null,
   "metadata": {},
   "outputs": [],
   "source": []
  }
 ],
 "metadata": {
  "kernelspec": {
   "display_name": "Python 3",
   "language": "python",
   "name": "python3"
  },
  "language_info": {
   "codemirror_mode": {
    "name": "ipython",
    "version": 3
   },
   "file_extension": ".py",
   "mimetype": "text/x-python",
   "name": "python",
   "nbconvert_exporter": "python",
   "pygments_lexer": "ipython3",
   "version": "3.5.2"
  }
 },
 "nbformat": 4,
 "nbformat_minor": 2
}
